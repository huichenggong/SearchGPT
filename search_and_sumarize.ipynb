{
 "cells": [
  {
   "cell_type": "code",
   "execution_count": 1,
   "id": "8f7c707f-c881-44b1-a0a6-7d471c38fd29",
   "metadata": {},
   "outputs": [],
   "source": [
    "import requests\n",
    "from util import *\n",
    "import os\n",
    "import openai\n",
    "from IPython.display import display, Markdown"
   ]
  },
  {
   "cell_type": "code",
   "execution_count": 2,
   "id": "22dba313-f099-48e7-b6f7-0bde2742fd99",
   "metadata": {},
   "outputs": [],
   "source": [
    "%load_ext dotenv\n",
    "%dotenv"
   ]
  },
  {
   "cell_type": "code",
   "execution_count": 3,
   "id": "f436efd2-6fef-41d5-8f24-48baf73471a4",
   "metadata": {},
   "outputs": [],
   "source": [
    "openai.api_key = os.getenv(\"OPENAI_API_KEY\")\n",
    "GOOGLE_API_KEY = os.getenv(\"GOOGLE_API_KEY\")\n",
    "# https://programmablesearchengine.google.com/controlpanel/all\n",
    "SEARCH_ENGINE_ID =os.getenv(\"SEARCH_ENGINE_ID\")"
   ]
  },
  {
   "cell_type": "code",
   "execution_count": 4,
   "id": "f8fba303-3b94-47b5-85e4-652108b2ab23",
   "metadata": {},
   "outputs": [],
   "source": [
    "query = \"TRAAK single channel conductance\"\n",
    "question = \"What is the single channel conductance of TRAAK channel at different conditions?\""
   ]
  },
  {
   "cell_type": "code",
   "execution_count": 7,
   "id": "e07b22ea-1636-415c-a917-7e7e22cd1133",
   "metadata": {
    "scrolled": true,
    "tags": []
   },
   "outputs": [
    {
     "name": "stdout",
     "output_type": "stream",
     "text": [
      "[1]\n",
      "Title: Mixing and matching TREK/TRAAK subunits generate heterodimeric ...\n",
      "Description: Mar 28, 2016 ... Unitary conductances of TRAAK and Td-TREK1/TRAAK are 65.4 ± 3.2 pS and 80.7 ± 1.9 pS at +100 mV and 110.9 ± 1.5 pS and 98.7 ± 3.9 pS at −100 mV ...\n",
      "URL: https://www.ncbi.nlm.nih.gov/pmc/articles/PMC4839434/\n",
      "\n",
      "[2]\n",
      "Title: Thermosensitivity of the two-pore domain K+ channels TREK-2 and ...\n",
      "Long description: TREK-1, TREK-2 and TRAAK are members of the two-pore domain K[+]  (K[2P] ) channel family and are activated by membrane stretch and free fatty acids. TREK-1 has been shown to be sensitive to temperature in expression systems. We studied the temperature-sensitivity ...\n",
      "URL: https://www.ncbi.nlm.nih.gov/pmc/articles/PMC1456046/\n",
      "\n",
      "[3]\n",
      "Title: TREK-1 and TRAAK are principal K+ channels at the nodes of ...\n",
      "Long description: Rapid conduction of nerve impulses are critical in life and rely on action potential (AP) leaps through the nodes of Ranvier (NRs) along myelinated nerves. While NRs are the only sites where APs can be regenerated during nerve conduction on myelinated ...\n",
      "URL: https://www.ncbi.nlm.nih.gov/pmc/articles/PMC6895425/\n",
      "\n",
      "[4]\n",
      "Title: Thermosensitivity of the two‐pore domain K+ channels TREK‐2 and ...\n",
      "Long description: TREK-1, TREK-2 and TRAAK are members of the two-pore domain K+ (K2P) channel family and are activated by membrane stretch and free fatty acids. TREK-1 has been shown to be sensitive to temperature in...\n",
      "URL: https://physoc.onlinelibrary.wiley.com/doi/10.1113/jphysiol.2004.081059\n",
      "\n",
      "[5]\n",
      "Title: Axonal membrane stretch suppresses neuronal excitability by ...\n",
      "Long description: Saltatory conduction is the propagation of action potentials along myelinated nerves, which enables fast propagation through the node of Ranvier. Recently, we demonstrated that K2P channels, TWIK-related K[+]  channel-1 (TREK-1), and TWIK-related arachidonic ...\n",
      "URL: https://www.ncbi.nlm.nih.gov/pmc/articles/PMC9843873/\n",
      "\n",
      "[6]\n",
      "Title: Conduction and Gating Properties of the TRAAK Channel from ...\n",
      "Long description: In recent years, the K2P family of potassium channels has been the subject of intense research activity. Owing to the complex function and regulation of this family of ion channels, it is common practice to complement experimental findings with the atomistic description provided by computational approaches such as molecular dynamics (MD) simulations, especially, in light of the unprecedented timescales accessible at present. However, despite recent substantial improvements, the accuracy of MD simulations is still undermined by the intrinsic limitations of force fields. Here, we systematically assessed the performance of the most popular force fields employed to study ion channels at timescales that are orders of magnitude greater than the ones accessible when these energy functions were first developed. Using 32 μs of trajectories, we investigated the dynamics of a member of the K2P ion channel family, the TRAAK channel, using two established force fields in simulations of biological systems: AMBER and CHARM\n",
      "URL: https://pubs.acs.org/doi/10.1021/acs.jcim.0c01179\n",
      "\n",
      "[7]\n",
      "Title: Ultrasound activates mechanosensitive TRAAK K+ channels ...\n",
      "Description: Feb 4, 2021 ... Single channels were confirmed to be TRAAK by their K+ selectivity, single-channel conductance of ∼73 pS at positive potentials, ...\n",
      "URL: https://www.ncbi.nlm.nih.gov/pmc/articles/PMC8017979/\n",
      "\n",
      "[8]\n",
      "Title: Control of the single channel conductance of K2P10.1 (TREK-2) by ...\n",
      "Long description: TREK-2 expressed in mammalian cells exhibits small (∼52 pS) and large (∼220 pS) unitary conductance levels. Here we tested the role of the N-terminus (69 amino acids long) in the control of the unitary conductance, and role of the alternative ...\n",
      "URL: https://www.ncbi.nlm.nih.gov/pmc/articles/PMC2655399/\n",
      "\n",
      "[9]\n",
      "Title: TRESK and TREK-2 two-pore-domain potassium channel subunits ...\n",
      "Long description: Two-pore-domain potassium channels (K[2P] ) are the major determinants of the background potassium conductance. They play a crucial role in setting the resting membrane potential and regulating cellular excitability. These channels form homodimers; however, ...\n",
      "URL: https://www.ncbi.nlm.nih.gov/pmc/articles/PMC7458809/\n",
      "\n",
      "[10]\n",
      "Title: Molecular regulations governing TREK and TRAAK channel ...\n",
      "Long description: K[+]  channels with two-pore domain (K[2p] ) form a large family of hyperpolarizing channels. They produce background currents that oppose membrane depolarization and cell excitability. They are involved in cellular mechanisms of apoptosis, vasodilatation, ...\n",
      "URL: https://www.ncbi.nlm.nih.gov/pmc/articles/PMC3265763/\n",
      "\n",
      "[11]\n",
      "Title: Physical basis for distinct basal and mechanically-gated activity of ...\n",
      "Description: Aug 13, 2021 ... Mechanically-gated openings are high conductance, long duration, ... Notably, single channel recordings of TRAAK, and the closely related ...\n",
      "URL: https://www.ncbi.nlm.nih.gov/pmc/articles/PMC8448962/\n",
      "\n",
      "[12]\n",
      "Title: TREK-2 (K2P10.1) and TRESK (K2P18.1) are major background K+ ...\n",
      "Long description: Dorsal root ganglion (DRG) neurons express mRNAs for many two-pore domain K(+) (K(2P)) channels that behave as background K(+) channels. To identify functional background K(+) channels in DRG neurons, we examined the properties of single-channel openings from cell-attached and inside-out patches fro …\n",
      "URL: https://pubmed.ncbi.nlm.nih.gov/16495368/\n",
      "\n",
      "[13]\n",
      "Title: Ultrasound activates mechanosensitive TRAAK K - channels ...\n",
      "Description: Feb 4, 2021 ... Single channels were confirmed to be TRAAK by their. K+ selectivity, single-channel conductance of ∼73 pS at positive potentials, ...\n",
      "URL: https://www.pnas.org/doi/pdf/10.1073/pnas.2006980118\n",
      "\n",
      "[14]\n",
      "Title: Background and tandem-pore potassium channels in magnocellular ...\n",
      "Long description: Magnocellular neurosecretory cells (MNCs) were isolated from the supraoptic nucleus of rat hypothalamus, and properties of K[+]  channels that may regulate the resting membrane potential and the excitability of MNCs were studied. MNCs showed large transient ...\n",
      "URL: https://www.ncbi.nlm.nih.gov/pmc/articles/PMC2342581/\n",
      "\n",
      "[15]\n",
      "Title: Background and tandem-pore potassium channels in magnocellular ...\n",
      "Long description: Magnocellular neurosecretory cells (MNCs) were isolated from the supraoptic nucleus of rat hypothalamus, and properties of K(+) channels that may regulate the resting membrane potential and the excitability of MNCs were studied. MNCs showed large transient outward currents, typical of vasopressin- a …\n",
      "URL: https://pubmed.ncbi.nlm.nih.gov/12562991/\n",
      "\n",
      "[16]\n",
      "Title: Pressure and ultrasound activate mechanosensitive TRAAK K+ ...\n",
      "Description: Jan 12, 2023 ... Patches contained thousands of channels given the TRAAK single channel current ... TRAAK is therefore expected to generate a K+ conductance ...\n",
      "URL: https://www.ncbi.nlm.nih.gov/pmc/articles/PMC9882092/\n",
      "\n",
      "[17]\n",
      "Title: Physical basis for distinct basal and mechanically gated activity of ...\n",
      "Description: Aug 13, 2021 ... nodal background K+ conductance and maintains the resting ... Notably, single-channel recordings of TRAAK, and the closely.\n",
      "URL: https://www.cell.com/neuron/pdf/S0896-6273(21)00519-5.pdf\n",
      "\n",
      "[18]\n",
      "Title: Differential sensitivity of TREK–1, TREK–2 and TRAAK background ...\n",
      "Long description: Pharmacological separation of the background potassium currents of closely related K[2P]  channels is a challenging problem. We previously demonstrated that ruthenium red (RR) inhibits TASK-3 (K[2] [P] 9.1), but not TASK-1 (K[2] [P] 3.1) channels. RR ...\n",
      "URL: https://www.ncbi.nlm.nih.gov/pmc/articles/PMC4376452/\n",
      "\n",
      "[19]\n",
      "Title: Characterization of temperature-sensitive leak K+ currents and ...\n",
      "Description: Jul 6, 2018 ... Of 15 members of K2P channels cloned so far, TRAAK, TREK-1, ... of 14 °C evoked a conductance which was consistent with TRPM8 channel ...\n",
      "URL: https://link.springer.com/article/10.1186/s13041-018-0384-5\n",
      "\n",
      "[20]\n",
      "Title: Dual conductance mode of the TREK-1 channel: a hidden track to ...\n",
      "Long description: Dual conductance mode of the TREK-1 channel: a hidden track to mechanoelectric regulation in the heart?\n",
      "URL: https://pubmed.ncbi.nlm.nih.gov/16337161/\n",
      "\n",
      "\n"
     ]
    }
   ],
   "source": [
    "search_res = get_search_result(GOOGLE_API_KEY, SEARCH_ENGINE_ID, query, page=[1,2]) # get 20 result from google\n"
   ]
  },
  {
   "cell_type": "code",
   "execution_count": 8,
   "id": "22b56e2c-05b2-419d-92fe-8dea5e566f8a",
   "metadata": {},
   "outputs": [],
   "source": [
    "message_res = search_res + f\"\"\"\n",
    "Here is the web search result using the following keywords \"{query}\".\n",
    "1. Please write a comprehensive reply discussing \"{question}\". Make sure to cite search results using [number](URL) notation after the reference.\n",
    "2. List all the useful reference you discussed using [number](URL) notation.\n",
    "3. Provide more search keywords to better understand the first question.\n",
    "\"\"\""
   ]
  },
  {
   "cell_type": "markdown",
   "id": "9fb50769-1f6b-4098-8d50-4a44abda1d2b",
   "metadata": {},
   "source": [
    "# Model :gpt-3.5-turbo"
   ]
  },
  {
   "cell_type": "code",
   "execution_count": 9,
   "id": "2277074d-7b2b-4809-8ad4-36b7858242d1",
   "metadata": {},
   "outputs": [],
   "source": [
    "message = [{\"role\":\"system\", \"content\":\"You are a helpful assistant that reads and summarizes academic literatures\"},\n",
    "           {\"role\": \"user\", \"content\": message_res},\n",
    "]\n",
    "res35T = openai.ChatCompletion.create(\n",
    "    model=\"gpt-3.5-turbo\",\n",
    "    messages=message,\n",
    "    temperature=0.5,\n",
    "    max_tokens=800,\n",
    ")"
   ]
  },
  {
   "cell_type": "code",
   "execution_count": 10,
   "id": "a9207c4b-b2e3-4381-8c7f-55e4bad09d1d",
   "metadata": {},
   "outputs": [
    {
     "name": "stdout",
     "output_type": "stream",
     "text": [
      "Keywords : TRAAK single channel conductance\n",
      "Question : What is the single channel conductance of TRAAK channel at different conditions?\n",
      "\n",
      "1. The single channel conductance of the TRAAK channel varies depending on the conditions. At +100 mV, the unitary conductance of TRAAK is 65.4 ± 3.2 pS, while at −100 mV, it is 110.9 ± 1.5 pS [1]. Another study reported a single-channel conductance of ∼73 pS at positive potentials [7]. \n",
      "2. \n",
      "- [1](https://www.ncbi.nlm.nih.gov/pmc/articles/PMC4839434/)\n",
      "- [7](https://www.ncbi.nlm.nih.gov/pmc/articles/PMC8017979/)\n",
      "3. Additional search keywords that may help to better understand the single channel conductance of TRAAK channel include \"TRAAK conductance\", \"TRAAK ion channel\", \"TRAAK unitary conductance\".\n",
      "\n",
      "\n",
      "The token you have been using:\n",
      "{\n",
      "  \"completion_tokens\": 179,\n",
      "  \"prompt_tokens\": 2200,\n",
      "  \"total_tokens\": 2379\n",
      "}\n",
      "This conversation costs  0.004758 USD\n",
      "stop\n"
     ]
    }
   ],
   "source": [
    "print(\"Keywords :\", query)\n",
    "print(\"Question :\", question)\n",
    "print()\n",
    "print(res35T[\"choices\"][0][\"message\"][\"content\"])\n",
    "print(\"\\n\\nThe token you have been using:\")\n",
    "print(res35T[\"usage\"])\n",
    "print(\"This conversation costs \", res35T[\"usage\"][\"total_tokens\"]/1000*0.002,\"USD\")\n",
    "print(res35T[\"choices\"][0][\"finish_reason\"])\n"
   ]
  },
  {
   "cell_type": "markdown",
   "id": "65a98366-4902-4e95-ab4c-ce8a7c4f9a89",
   "metadata": {},
   "source": [
    "# Model: text-davinci-003"
   ]
  },
  {
   "cell_type": "code",
   "execution_count": 12,
   "id": "ac216308-9a59-488a-b178-e55fcef8e9cc",
   "metadata": {},
   "outputs": [],
   "source": [
    "resdav = openai.Completion.create(\n",
    "    model=\"text-davinci-003\",\n",
    "    prompt=message_res,\n",
    "    temperature=0.6,\n",
    "    max_tokens=800,\n",
    ")"
   ]
  },
  {
   "cell_type": "code",
   "execution_count": 13,
   "id": "e4bbbd80-75e2-4d74-a245-d2866296ad9b",
   "metadata": {},
   "outputs": [
    {
     "name": "stdout",
     "output_type": "stream",
     "text": [
      "\n",
      "Answer: The single channel conductance of TRAAK channels can vary greatly depending on the conditions. At a positive potential of +100 mV, the unitary conductance of TRAAK is 65.4 ± 3.2 pS [1]. At a negative potential of -100 mV, the unitary conductance of TRAAK is 110.9 ± 1.5 pS [1]. The single channel conductance of TRAAK is also sensitive to temperature, with a conductance of ∼73 pS at positive potentials [7]. In addition, the single channel conductance of TRAAK can be modulated by membrane stretch [3, 5, 11], free fatty acids [2], and alternative splicing [8, 10].\n",
      "\n",
      "References: \n",
      "[1](https://www.ncbi.nlm.nih.gov/pmc/articles/PMC4839434/) \n",
      "[2](https://www.ncbi.nlm.nih.gov/pmc/articles/PMC1456046/) \n",
      "[3](https://www.ncbi.nlm.nih.gov/pmc/articles/PMC6895425/) \n",
      "[5](https://www.ncbi.nlm.nih.gov/pmc/articles/PMC9843873/) \n",
      "[7](https://www.ncbi.nlm.nih.gov/pmc/articles/PMC8017979/) \n",
      "[8](https://www.ncbi.nlm.nih.gov/pmc/articles/PMC2655399/)\n",
      "[10](https://www.ncbi.nlm.nih.gov/pmc/articles/PMC3265763/) \n",
      "[11](https://www.ncbi.nlm.nih.gov/pmc/articles/PMC8448962/) \n",
      "\n",
      "More search keywords: TRAAK single channel properties, TRAAK single channel characteristics, TRAAK single channel kinetics, TRAAK single channel activation, TRAAK single channel structure, TRAAK single channel regulation.\n",
      "\n",
      "\n",
      "The token you have been using:\n",
      "{\n",
      "  \"completion_tokens\": 451,\n",
      "  \"prompt_tokens\": 2437,\n",
      "  \"total_tokens\": 2888\n",
      "}\n",
      "This conversation costs  0.05776 USD\n",
      "stop\n"
     ]
    }
   ],
   "source": [
    "print(resdav[\"choices\"][0][\"text\"])\n",
    "print(\"\\n\\nThe token you have been using:\")\n",
    "print(resdav[\"usage\"])\n",
    "print(\"This conversation costs \", resdav[\"usage\"][\"total_tokens\"]/1000*0.02,\"USD\")\n",
    "print(resdav[\"choices\"][0][\"finish_reason\"])\n"
   ]
  },
  {
   "cell_type": "code",
   "execution_count": null,
   "id": "be1c8262-10e5-4f86-aa12-6d98f577d95d",
   "metadata": {},
   "outputs": [],
   "source": []
  },
  {
   "cell_type": "code",
   "execution_count": null,
   "id": "e6cb1aa9-2133-4acf-851f-b81679eaa812",
   "metadata": {},
   "outputs": [],
   "source": []
  }
 ],
 "metadata": {
  "kernelspec": {
   "display_name": "search",
   "language": "python",
   "name": "search"
  },
  "language_info": {
   "codemirror_mode": {
    "name": "ipython",
    "version": 3
   },
   "file_extension": ".py",
   "mimetype": "text/x-python",
   "name": "python",
   "nbconvert_exporter": "python",
   "pygments_lexer": "ipython3",
   "version": "3.11.3"
  }
 },
 "nbformat": 4,
 "nbformat_minor": 5
}
